{
 "cells": [
  {
   "cell_type": "code",
   "execution_count": null,
   "id": "bb3f7396",
   "metadata": {},
   "outputs": [],
   "source": [
    "from IPython.core.interactiveshell import InteractiveShell\n",
    "InteractiveShell.ast_node_interactivity = \"all\""
   ]
  },
  {
   "cell_type": "code",
   "execution_count": null,
   "id": "168fb211",
   "metadata": {},
   "outputs": [],
   "source": [
    "# !pip install scikit-opt\n"
   ]
  },
  {
   "cell_type": "code",
   "execution_count": null,
   "id": "887d9d28",
   "metadata": {},
   "outputs": [],
   "source": [
    "from sko.GA import GA_TSP\n",
    "import pandas as pd\n",
    "import numpy as np\n",
    "from scipy import spatial\n",
    "import matplotlib.pyplot as plt\n",
    "import math\n",
    "import pathlib"
   ]
  },
  {
   "cell_type": "code",
   "execution_count": null,
   "id": "6e1a4a84",
   "metadata": {},
   "outputs": [],
   "source": [
    "def polygonVerticesadvanced(numPoints, radius, centerX, centerY):\n",
    "    vertices = []\n",
    "    xcoordinate = []\n",
    "    ycoordinate = []\n",
    "    for i in range(numPoints):\n",
    "        crtAngle=math.pi/numPoints + (i) * (2*math.pi)/(numPoints)\n",
    "        xcoordinate.append(radius*math.cos(crtAngle))\n",
    "        ycoordinate.append(radius*math.sin(crtAngle))\n",
    "    vertices = list(zip(\n",
    "        [x + centerX for x in xcoordinate]\n",
    "        , [x + centerY for x in ycoordinate]))\n",
    "   \n",
    "    return vertices\n",
    "\n",
    "\n",
    "N_SITES = 50\n",
    "POP_SIZE = 20\n",
    "N_GENERATIONS = 100\n",
    "a = polygonVerticesadvanced(N_SITES,1,0,0)\n",
    "b = np.array(a)\n",
    "\n",
    "distance_matrix = spatial.distance.cdist(b, b, metric='euclidean')"
   ]
  },
  {
   "cell_type": "code",
   "execution_count": null,
   "id": "db6cb115",
   "metadata": {},
   "outputs": [],
   "source": [
    "def cal_total_distance(routine):\n",
    "    '''The objective function. input routine, return total distance.\n",
    "    cal_total_distance(np.arange(num_points))\n",
    "    '''\n",
    "    N_SITES, = routine.shape\n",
    "    return sum([distance_matrix[routine[i % N_SITES], routine[(i + 1) % N_SITES]] for i in range(N_SITES)])\n",
    "\n"
   ]
  },
  {
   "cell_type": "code",
   "execution_count": null,
   "id": "bf246f06",
   "metadata": {},
   "outputs": [],
   "source": [
    "ga_tsp = GA_TSP(func=cal_total_distance, n_dim=N_SITES, size_pop= POP_SIZE, max_iter=N_GENERATIONS, prob_mut=1)\n",
    "best_points, best_distance = ga_tsp.run()"
   ]
  },
  {
   "cell_type": "code",
   "execution_count": null,
   "id": "776c9dbd",
   "metadata": {},
   "outputs": [],
   "source": [
    "fig, ax = plt.subplots(1, 2)\n",
    "best_points_ = np.concatenate([best_points, [best_points[0]]])\n",
    "best_points_coordinate = b[best_points_, :]\n",
    "ax[0].plot(best_points_coordinate[:, 0], best_points_coordinate[:, 1], 'o-r')\n",
    "ax[1].plot(ga_tsp.generation_best_Y)\n",
    "plt.show()"
   ]
  },
  {
   "cell_type": "code",
   "execution_count": null,
   "id": "da24868b",
   "metadata": {},
   "outputs": [],
   "source": [
    "def demo_function(sites, n_sites, pop_size, n_gens, costFunctionhistory, show=True):\n",
    "    crt_optimizer=GA_TSP(func=cal_total_distance, n_dim=n_sites, size_pop= pop_size, max_iter=n_gens, prob_mut=1)\n",
    "    best_points, best_distance = crt_optimizer.run()\n",
    "    fig, ax = plt.subplots(1, 2)\n",
    "    best_points_ = np.concatenate([best_points, [best_points[0]]])\n",
    "    best_points_coordinate = sites[best_points_, :]\n",
    "    ax[0].plot(best_points_coordinate[:, 0], best_points_coordinate[:, 1], 'o-r')\n",
    "#     ax[1].plot(crt_optimizer.generation_best_Y)\n",
    "    ax[1].plot(costFunctionhistory[0:(n_gens-1)])\n",
    "    if show:\n",
    "        plt.show()\n",
    "\n",
    "    return fig"
   ]
  },
  {
   "cell_type": "code",
   "execution_count": null,
   "id": "d7ea1960",
   "metadata": {},
   "outputs": [],
   "source": [
    "N_SITES = 100\n",
    "POP_SIZE = 20\n",
    "N_GENERATIONS = 500\n",
    "\n",
    "sites = np.array(polygonVerticesadvanced(N_SITES,1,0,0))\n",
    "distance_matrix = spatial.distance.cdist(sites, sites, metric='euclidean')\n",
    "\n",
    "crt_optimizer=GA_TSP(func=cal_total_distance, n_dim=N_SITES, size_pop= POP_SIZE, max_iter=N_GENERATIONS, prob_mut=1)\n",
    "best_points, best_distance = crt_optimizer.run()\n",
    "\n",
    "fig, ax = plt.subplots(1, 2)\n",
    "best_points_ = np.concatenate([best_points, [best_points[0]]])\n",
    "best_points_coordinate = sites[best_points_, :]\n",
    "ax[0].plot(best_points_coordinate[:, 0], best_points_coordinate[:, 1], 'o-r')\n",
    "ax[1].plot(crt_optimizer.generation_best_Y)\n",
    "plt.show()"
   ]
  },
  {
   "cell_type": "code",
   "execution_count": null,
   "id": "621de23e",
   "metadata": {},
   "outputs": [],
   "source": [
    "costfunctionarray = crt_optimizer.generation_best_Y\n",
    "costfunctionarray[0:20]"
   ]
  },
  {
   "cell_type": "code",
   "execution_count": null,
   "id": "6041795e",
   "metadata": {},
   "outputs": [],
   "source": [
    "# ! ls -la  ./../NASA_VIP_interns/ga_demo_pics/\n",
    "# target_file_path = pathlib.Path('./../NASA_VIP_interns/ga_demo_pics/')\n",
    "target_file_path = pathlib.Path('./demo_output')"
   ]
  },
  {
   "cell_type": "code",
   "execution_count": null,
   "id": "07c239fc",
   "metadata": {},
   "outputs": [],
   "source": [
    "def func00(var):\n",
    "    var=str(var)\n",
    "    Other_string=\"\"\n",
    "    My_int=0\n",
    "    for i in (var):\n",
    "        My_int+=1\n",
    "    My_int=4-My_int\n",
    "    for i in range(My_int):\n",
    "        Other_string+=\"0\"\n",
    "    return Other_string"
   ]
  },
  {
   "cell_type": "code",
   "execution_count": null,
   "id": "5d87622e",
   "metadata": {},
   "outputs": [],
   "source": [
    "N_SITES = 100\n",
    "POP_SIZE = 20\n",
    "N_GENERATIONS = 500\n",
    "\n",
    "sites = np.array(polygonVerticesadvanced(N_SITES,1,0,0))\n",
    "distance_matrix = spatial.distance.cdist(sites, sites, metric='euclidean')\n",
    "\n",
    "\n",
    "for crt_n_gen in range (20, N_GENERATIONS, 50):\n",
    "    print(crt_n_gen)\n",
    "    fig = demo_function(sites, N_SITES, POP_SIZE,crt_n_gen, costfunctionarray)\n",
    "    picfname = target_file_path/(f\"myplot {func00(crt_n_gen)}{str(crt_n_gen)}.png\")\n",
    "    print(picfname)\n",
    "    fig.savefig(picfname)\n",
    "    "
   ]
  },
  {
   "cell_type": "code",
   "execution_count": null,
   "id": "86c2b808",
   "metadata": {},
   "outputs": [],
   "source": []
  }
 ],
 "metadata": {
  "kernelspec": {
   "display_name": "Python 3 (ipykernel)",
   "language": "python",
   "name": "python3"
  },
  "language_info": {
   "codemirror_mode": {
    "name": "ipython",
    "version": 3
   },
   "file_extension": ".py",
   "mimetype": "text/x-python",
   "name": "python",
   "nbconvert_exporter": "python",
   "pygments_lexer": "ipython3",
   "version": "3.9.12"
  }
 },
 "nbformat": 4,
 "nbformat_minor": 5
}
